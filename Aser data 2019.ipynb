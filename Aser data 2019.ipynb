{
 "cells": [
  {
   "cell_type": "markdown",
   "metadata": {},
   "source": [
    "# Configuration"
   ]
  },
  {
   "cell_type": "code",
   "execution_count": null,
   "metadata": {
    "ExecuteTime": {
     "end_time": "2020-07-21T11:38:02.606661Z",
     "start_time": "2020-07-21T11:38:02.604000Z"
    }
   },
   "outputs": [],
   "source": [
    "drop_locality_data = False\n",
    "run_knn = False\n",
    "run_knn_hyperparameter_error_plot = False\n",
    "save_figs = False"
   ]
  },
  {
   "cell_type": "markdown",
   "metadata": {},
   "source": [
    "# Initialization"
   ]
  },
  {
   "cell_type": "code",
   "execution_count": null,
   "metadata": {
    "ExecuteTime": {
     "end_time": "2020-07-21T11:38:06.073147Z",
     "start_time": "2020-07-21T11:38:02.610181Z"
    }
   },
   "outputs": [],
   "source": [
    "import pytz\n",
    "import numpy as np\n",
    "import pandas as pd\n",
    "import matplotlib.pyplot as plt\n",
    "import seaborn as sns\n",
    "from sklearn.model_selection import train_test_split\n",
    "from sklearn.metrics import r2_score, mean_squared_error, classification_report, confusion_matrix\n",
    "from datetime import datetime, timedelta\n",
    "%matplotlib inline\n",
    "\n",
    "pd.set_option('display.max_columns', 500)\n",
    "pd.set_option('display.max_rows', 500)\n",
    "\n",
    "plt.rcParams.update(\n",
    "    {\n",
    "        'font.size': 18,\n",
    "        'savefig.dpi': 150,\n",
    "        'xtick.labelsize': 14,\n",
    "        'ytick.labelsize': 14\n",
    "    }\n",
    ")\n",
    "\n",
    "\n",
    "households_df = pd.read_csv('./ITAASER2019HOUSEHOLD.csv', dtype={\n",
    "    'AREA': 'object',\n",
    "    'VCODE': 'object',\n",
    "    'HHID': 'object',\n",
    "    'H002': 'object',\n",
    "})\n",
    "\n",
    "households_df = households_df.astype({\n",
    "    'H003': 'bool',\n",
    "    'H004': 'bool',\n",
    "    'H005': 'bool',\n",
    "    'H006': 'bool',\n",
    "    'H007': 'bool',\n",
    "    'H008': 'bool',\n",
    "    'H009': 'bool',\n",
    "    'H010': 'bool',\n",
    "    'H011': 'bool',\n",
    "    'H012': 'bool',\n",
    "    'HEHSAAS': 'bool',\n",
    "    'HBISP': 'bool',\n",
    "    'HPSPA': 'bool',\n",
    "    'HAKHU': 'bool',\n",
    "    'HSPO': 'bool',\n",
    "    'HSPNON': 'bool',\n",
    "    'H100': 'bool',\n",
    "    'H101': 'bool'\n",
    "\n",
    "})\n",
    "\n",
    "households_df = households_df.rename(columns={\n",
    "    'AREA': 'area',\n",
    "    'H001M': 'num_males',\n",
    "    'H001F': 'num_females',\n",
    "    'H001': 'num_members',\n",
    "    'VCODE': 'district_code',\n",
    "    'H002': 'house_type',\n",
    "    'H003': 'is_self_owned',\n",
    "    'H004': 'has_electric_connection',\n",
    "    'H005': 'is_television_available',\n",
    "    'H006': 'is_mobile_phone_available',\n",
    "    'H007': 'is_smart_phone_available',\n",
    "    'H008': 'is_car_available',\n",
    "    'H009': 'is_motorcycle_available',\n",
    "    'H010': 'is_computer_available',\n",
    "    'H011': 'is_solar_panel_available',\n",
    "    'H012': 'is_internet_connection_available',\n",
    "    'HEHSAAS': 'is_ehsaas_recepient',\n",
    "    'HBISP': 'is_bisp_recepient',\n",
    "    'HPSPA': 'is_pspa_recepient',\n",
    "    'HAKHU': 'is_akhuwat_recepient',\n",
    "    'HSPO': 'is_other_ssn_recepient',\n",
    "    'HSPNON': 'is_ssn_recepient',\n",
    "    'H100': 'uses_sms',\n",
    "    'H101': 'uses_whatsapp'\n",
    "\n",
    "})\n",
    "\n",
    "households_df['house_type'] = households_df['house_type'].map({\n",
    "    '1': 'kutcha',\n",
    "    '2': 'semi-pucca',\n",
    "    '3': 'pucca'\n",
    "})\n",
    "\n",
    "\n",
    "parents_df = pd.read_csv('./ITAASER2019PARENT.csv', dtype={\n",
    "    'AREA': 'object',\n",
    "    'VCODE': 'object',\n",
    "    'PR005': 'object',\n",
    "    'PR010': 'object',\n",
    "    'PRID': 'object'\n",
    "    # Create a column for years of education\n",
    "})\n",
    "\n",
    "parents_df = parents_df.astype({\n",
    "    'PR004': 'bool',\n",
    "    'PR006': 'bool',\n",
    "    'PR009': 'bool',\n",
    "    'PR011': 'bool',\n",
    "})\n",
    "\n",
    "parents_df = parents_df.rename(columns={\n",
    "    'AREA': 'area',\n",
    "    'VCODE': 'district_code',\n",
    "    'PR001': 'mother_age',\n",
    "    'PR002': 'num_surviving_children_younger_than_17',\n",
    "    'PR003': 'num_surviving_children_elder_than_17',\n",
    "    'PR004': 'has_mother_ever_attended_school',\n",
    "    'PR005': 'mother_max_grade',\n",
    "    'PR006': 'is_mother_education_more_than_5_grades',\n",
    "    'PR009': 'has_father_ever_attended_school',\n",
    "    'PR010': 'father_max_grade',\n",
    "    'PR011': 'is_father_education_more_than_5_grades',\n",
    "})\n",
    "\n",
    "\n",
    "\n",
    "\n",
    "parents_df = parents_df.drop(columns=['num_surviving_children_younger_than_17', 'num_surviving_children_elder_than_17'])\n",
    "\n",
    "\n",
    "children_df = pd.read_csv('./ITAASER2019CHILD.csv', dtype={\n",
    "    'AREA': 'object',\n",
    "    'VCODE': 'object',\n",
    "    'PRID': 'object',\n",
    "    'CID': 'object',\n",
    "    'HHID': 'object',\n",
    "    'C002': 'object',\n",
    "    'C003': 'object',\n",
    "    'C003a': 'object',\n",
    "    'C003b': 'object',\n",
    "    'C004': 'object',\n",
    "    'C005': 'object',\n",
    "    'C006': 'object',\n",
    "    'C010': 'object',\n",
    "    'C011': 'object',\n",
    "    'C012': 'object',\n",
    "    'C013': 'object',\n",
    "})\n",
    "\n",
    "\n",
    "\n",
    "\n",
    "children_df = children_df.astype({\n",
    "    'C008a': 'bool',\n",
    "    'C010a': 'bool',\n",
    "    'C010b': 'bool',\n",
    "    'C012a': 'bool',\n",
    "    'C012b': 'bool',\n",
    "    'C012c': 'bool',\n",
    "    'C014': 'bool',\n",
    "    'C015': 'bool',\n",
    "    'C016': 'bool',\n",
    "    'C017': 'bool',\n",
    "    'C018': 'bool',\n",
    "    'C019': 'bool',    \n",
    "})\n",
    "\n",
    "children_df = children_df.rename(columns={\n",
    "    'AREA': 'area',\n",
    "    'VCODE': 'district_code',\n",
    "    'C001': 'age',\n",
    "    'C002': 'gender',\n",
    "    'C003': 'educational_status',\n",
    "    'C003a': 'reason_for_dropout',\n",
    "    'C003b': 'reason_for_non_enrollment',\n",
    "    'C004': 'max_grade_if_dropout',\n",
    "    'C005': 'current_grade',\n",
    "    'C006': 'current_institution_type',\n",
    "    'C007': 'is_enrolled_in_survey_school',\n",
    "    'C008a': 'is_taking_tuition_currently',\n",
    "    'C008b': 'current_tuition_fee',\n",
    "    'C010': 'basic_learning_level',\n",
    "    'C010a': 'basic_learning_level_q1_correct',\n",
    "    'C010b': 'basic_learning_level_q1_correct',\n",
    "    'C011': 'basic_learning_level_test_language',\n",
    "    'C012': 'arithmetic_levels',\n",
    "    'C012a': 'arithmetic_level_word_problem_1_correct',\n",
    "    'C012b': 'arithmetic_level_word_problem_2_correct',\n",
    "    'C012c': 'arithmetic_level_word_problem_3_correct',\n",
    "    'C013': 'english_reading_level',\n",
    "    'C013a': 'english_reading_level_bonus_question_1_correct',\n",
    "    'C013b': 'english_reading_level_bonus_question_2_correct',\n",
    "    'C014': 'english_knows_word_meanings',\n",
    "    'C015': 'english_knows_sentence_meanings',\n",
    "    'C016': 'general_knowledge_knows_english_poem',\n",
    "    'C017': 'general_knowledge_english_q2_correct',\n",
    "    'C018': 'general_knowledge_english_figures_recognition',\n",
    "    'C019': 'is_child_present_in_household'\n",
    "})\n",
    "\n",
    "children_df['reason_for_dropout'] = children_df['reason_for_dropout'].map({\n",
    "    '1': 'Law and Order',\n",
    "    '2': 'Poverty',\n",
    "    '3': 'Flood',\n",
    "    '4': 'School building shifted by govt.',\n",
    "    '5': 'Illness',\n",
    "    '6': 'Migration',\n",
    "    '7': 'Others'\n",
    "})\n",
    "\n",
    "children_df['reason_for_non_enrollment'] = children_df['reason_for_non_enrollment'].map({\n",
    "    '1': 'Law and Order',\n",
    "    '2': 'Poverty',\n",
    "    '3': 'Flood',\n",
    "    '4': 'School building shifted by govt.',\n",
    "    '5': 'Illness',\n",
    "    '6': 'Migration',\n",
    "    '7': 'Others'\n",
    "})\n",
    "\n",
    "children_df['is_currently_enrolled'] = children_df['educational_status'] == '3'\n",
    "\n",
    "\n",
    "enrolled_children_df = children_df[children_df['educational_status'] == '3']\n",
    "dropout_children_df = children_df[children_df['educational_status'] == '2']\n",
    "never_enrolled_children_df = children_df[children_df['educational_status'] == '1']\n",
    "\n",
    "print(enrolled_children_df.shape)\n",
    "print(dropout_children_df.shape)\n",
    "print(never_enrolled_children_df.shape)\n",
    "\n",
    "\n",
    "schools_df = pd.read_csv('./ITAASER2019SCHOOLS.csv')"
   ]
  },
  {
   "cell_type": "markdown",
   "metadata": {},
   "source": [
    "# Helper functions"
   ]
  },
  {
   "cell_type": "code",
   "execution_count": null,
   "metadata": {
    "ExecuteTime": {
     "end_time": "2020-07-21T11:38:06.082438Z",
     "start_time": "2020-07-21T11:38:06.074931Z"
    }
   },
   "outputs": [],
   "source": [
    "def map_max_grade_to_years_of_education(df, col_name):\n",
    "    return df[col_name].map({\n",
    "     '1': '1',\n",
    "     '2': '2',\n",
    "     '3': '3',\n",
    "     '4': '4',\n",
    "     '5': '5',\n",
    "     '6': '6',\n",
    "     '7': '7',\n",
    "     '8': '8',\n",
    "     '9': '9',\n",
    "     '10': '10',\n",
    "     'Alim/Hafiz/Madrassah': '10',\n",
    "     'B.Ed/M.Ed': '14',\n",
    "     'BACHELORS': '14',\n",
    "     'CT': '14',\n",
    "     'GRADUATE': '14',\n",
    "     'INTERMEDIATE': '12',\n",
    "     'M PHIL': '18',\n",
    "     'MASTERS': '16',\n",
    "     'MPHIL': '18',\n",
    "     'PHD': '20'\n",
    "    }).astype('float').astype('Int64')"
   ]
  },
  {
   "cell_type": "markdown",
   "metadata": {},
   "source": [
    "# Households"
   ]
  },
  {
   "cell_type": "code",
   "execution_count": null,
   "metadata": {
    "ExecuteTime": {
     "end_time": "2020-07-21T11:38:06.124322Z",
     "start_time": "2020-07-21T11:38:06.084268Z"
    },
    "scrolled": false
   },
   "outputs": [],
   "source": [
    "print(households_df.shape)\n",
    "households_df.head()"
   ]
  },
  {
   "cell_type": "markdown",
   "metadata": {},
   "source": [
    "# Schools"
   ]
  },
  {
   "cell_type": "code",
   "execution_count": null,
   "metadata": {
    "ExecuteTime": {
     "end_time": "2020-07-21T11:38:06.248171Z",
     "start_time": "2020-07-21T11:38:06.127019Z"
    },
    "scrolled": false
   },
   "outputs": [],
   "source": [
    "print(schools_df.shape)\n",
    "schools_df.head()"
   ]
  },
  {
   "cell_type": "markdown",
   "metadata": {},
   "source": [
    "# Children"
   ]
  },
  {
   "cell_type": "code",
   "execution_count": null,
   "metadata": {
    "ExecuteTime": {
     "end_time": "2020-07-21T11:38:06.295762Z",
     "start_time": "2020-07-21T11:38:06.253761Z"
    },
    "scrolled": false
   },
   "outputs": [],
   "source": [
    "print(children_df.shape)\n",
    "children_df.head()"
   ]
  },
  {
   "cell_type": "markdown",
   "metadata": {},
   "source": [
    "# Parents"
   ]
  },
  {
   "cell_type": "code",
   "execution_count": null,
   "metadata": {
    "ExecuteTime": {
     "end_time": "2020-07-21T11:38:06.347801Z",
     "start_time": "2020-07-21T11:38:06.316630Z"
    }
   },
   "outputs": [],
   "source": [
    "print(parents_df.shape)\n",
    "parents_df.head()"
   ]
  },
  {
   "cell_type": "markdown",
   "metadata": {},
   "source": [
    "# Respondents' Opinion - Dropping Out"
   ]
  },
  {
   "cell_type": "code",
   "execution_count": null,
   "metadata": {
    "ExecuteTime": {
     "end_time": "2020-07-21T11:38:07.917461Z",
     "start_time": "2020-07-21T11:38:06.360781Z"
    },
    "scrolled": false
   },
   "outputs": [],
   "source": [
    "dropout_reasons_grouped_df = children_df[children_df['RNAME'] != 'ISLAMABAD - ICT'].groupby(['RNAME', 'reason_for_dropout'], as_index=False).count()\n",
    "rname_fill_counts = children_df.dropna(subset=['reason_for_dropout']).RNAME.value_counts()\n",
    "\n",
    "percentage_dropout_reasons_grouped_df = dropout_reasons_grouped_df\n",
    "percentage_dropout_reasons_grouped_df['total_fills'] = percentage_dropout_reasons_grouped_df['RNAME'].apply(lambda x: rname_fill_counts[x])\n",
    "percentage_dropout_reasons_grouped_df['percentage_fills'] = (percentage_dropout_reasons_grouped_df['CID'] / percentage_dropout_reasons_grouped_df['total_fills'])*100\n",
    "\n",
    "\n",
    "\n",
    "pivot_df = pd.pivot_table(percentage_dropout_reasons_grouped_df,'percentage_fills','RNAME','reason_for_dropout')\n",
    "\n",
    "plt.subplots(figsize=(20, 12))\n",
    "ax = sns.heatmap(pivot_df, annot=True, cmap=\"YlGnBu\", fmt='.1f')\n",
    "print(f'Total responses: {np.sum(rname_fill_counts)}')\n",
    "plt.title('Respondents Opinion - Dropout Reasons', fontsize=20)\n",
    "if save_figs:\n",
    "    plt.savefig('./figures/respondents_opinion_dropout_reasons')"
   ]
  },
  {
   "cell_type": "code",
   "execution_count": null,
   "metadata": {
    "ExecuteTime": {
     "end_time": "2020-07-21T11:38:17.568882Z",
     "start_time": "2020-07-21T11:38:07.919534Z"
    },
    "scrolled": false
   },
   "outputs": [],
   "source": [
    "dropout_reasons_grouped_df = children_df.groupby(['DNAME', 'reason_for_dropout'], as_index=False).count()\n",
    "rname_fill_counts = children_df.dropna(subset=['reason_for_dropout']).DNAME.value_counts()\n",
    "\n",
    "percentage_dropout_reasons_grouped_df = dropout_reasons_grouped_df\n",
    "percentage_dropout_reasons_grouped_df['total_fills'] = percentage_dropout_reasons_grouped_df['DNAME'].apply(lambda x: rname_fill_counts[x])\n",
    "percentage_dropout_reasons_grouped_df['percentage_fills'] = (percentage_dropout_reasons_grouped_df['CID'] / percentage_dropout_reasons_grouped_df['total_fills'])*100\n",
    "\n",
    "\n",
    "\n",
    "pivot_df = pd.pivot_table(percentage_dropout_reasons_grouped_df,'percentage_fills','DNAME','reason_for_dropout')\n",
    "\n",
    "plt.subplots(figsize=(10, 60))\n",
    "ax = sns.heatmap(pivot_df, annot=True, cmap=\"YlGnBu\", fmt='.1f')\n",
    "print(f'Total responses: {np.sum(rname_fill_counts)}')\n",
    "plt.title('Respondents Opinion - Dropout Reasons', fontsize=20)\n",
    "plt.savefig('./figures/respondents_opinion_dropout_reasons')"
   ]
  },
  {
   "cell_type": "markdown",
   "metadata": {},
   "source": [
    "# Respondents' Opinion - Non Enrollment"
   ]
  },
  {
   "cell_type": "code",
   "execution_count": null,
   "metadata": {
    "ExecuteTime": {
     "end_time": "2020-07-21T11:38:19.329408Z",
     "start_time": "2020-07-21T11:38:17.570253Z"
    },
    "scrolled": false
   },
   "outputs": [],
   "source": [
    "non_enrollment_reasons_grouped_df = children_df.groupby(['RNAME', 'reason_for_non_enrollment'], as_index=False).count()\n",
    "rname_fill_counts = children_df.dropna(subset=['reason_for_non_enrollment']).RNAME.value_counts()\n",
    "\n",
    "percentage_dropout_reasons_grouped_df = non_enrollment_reasons_grouped_df\n",
    "percentage_dropout_reasons_grouped_df['total_fills'] = percentage_dropout_reasons_grouped_df['RNAME'].apply(lambda x: rname_fill_counts[x])\n",
    "percentage_dropout_reasons_grouped_df['percentage_fills'] = (percentage_dropout_reasons_grouped_df['CID'] / percentage_dropout_reasons_grouped_df['total_fills'])*100\n",
    "\n",
    "pivot_df = pd.pivot_table(percentage_dropout_reasons_grouped_df,'percentage_fills','RNAME','reason_for_non_enrollment')\n",
    "\n",
    "plt.subplots(figsize=(20, 12))\n",
    "ax = sns.heatmap(pivot_df, annot=True, cmap=\"YlGnBu\", fmt='.2f')\n",
    "\n",
    "print(f'Total Responses: {np.sum(rname_fill_counts)}')\n",
    "\n",
    "plt.title('Respondents Opinion - Non Enrollment Reasons', fontsize=20)\n",
    "if save_figs:\n",
    "    plt.savefig('./figures/respondents_opinion_non_enrollment_reasons')"
   ]
  },
  {
   "cell_type": "markdown",
   "metadata": {},
   "source": [
    "# Finding out the main factors for enrollment"
   ]
  },
  {
   "cell_type": "code",
   "execution_count": null,
   "metadata": {
    "ExecuteTime": {
     "end_time": "2020-07-21T11:38:21.779658Z",
     "start_time": "2020-07-21T11:38:19.339951Z"
    },
    "scrolled": false
   },
   "outputs": [],
   "source": [
    "children_households_df = pd.merge(households_df,children_df, on='HHID', suffixes=('_hh','_ch'))\n",
    "children_parents_df = pd.merge(children_df, parents_df, on='PRID')\n",
    "children_households_parents_df = pd.merge(children_households_df, parents_df, on='PRID', suffixes=('_chh', '_pr'))\n",
    "\n",
    "# Remove columns that give us context on a child's education. \n",
    "# Wouldn't be a useful predictive model if it needs information about a child's\n",
    "# performance in language and arithmetic questions\n",
    "trimmed_children_households_parents_df = children_households_parents_df.drop(columns=['SYEAR_ch','area_ch','RNAME_ch','DNAME_ch',\n",
    "                                                                     'district_code_ch', 'HCOUNTER_ch','reason_for_dropout',\n",
    "                                                                     'reason_for_non_enrollment','max_grade_if_dropout',\n",
    "                                                                     'current_grade', 'current_institution_type',\n",
    "                                                                     \"C020\", \"is_taking_tuition_currently\", \n",
    "                                                                      \"current_tuition_fee\", \"basic_learning_level\", \n",
    "                                                                      \"basic_learning_level_q1_correct\", \n",
    "                                                                      \"basic_learning_level_q1_correct\", \n",
    "                                                                      \"basic_learning_level_test_language\", \n",
    "                                                                      \"arithmetic_levels\", \"arithmetic_level_word_problem_1_correct\",\n",
    "                                                                      \"arithmetic_level_word_problem_2_correct\", \n",
    "                                                                      \"arithmetic_level_word_problem_3_correct\", \"english_reading_level\",\n",
    "                                                                      \"english_knows_word_meanings\", \"english_knows_sentence_meanings\",\n",
    "                                                                      \"general_knowledge_knows_english_poem\", \"general_knowledge_english_q2_correct\",\n",
    "                                                                      \"general_knowledge_english_figures_recognition\", \n",
    "                                                                      \"is_child_present_in_household\", \"HHID_pr\", \"HCOUNTER\",\n",
    "                                                                      \"PR008\", \"district_code_hh\", \"HCOUNTER_hh\", \"SYEAR_hh\",\n",
    "                                                                      \"HHID_chh\", \"PRID\", \"CID\", \"area_hh\", \"district_code\",\n",
    "                                                                      \"RNAME_hh\", \"DNAME_hh\"\n",
    "                                                                                     ])\n",
    "\n",
    "\n",
    "trimmed_children_households_parents_df = trimmed_children_households_parents_df \\\n",
    "                                                        .dropna(subset=['gender', 'house_type', 'area'], how='any')\n",
    "\n",
    "print(trimmed_children_households_parents_df.shape)\n",
    "print(trimmed_children_households_parents_df.is_currently_enrolled.value_counts())\n",
    "print(trimmed_children_households_parents_df.is_currently_enrolled.value_counts())\n",
    "\n",
    "children_households_parents_df[children_households_parents_df['is_currently_enrolled']==False].isna().mean().sort_values(ascending=False)\n",
    "\n",
    "\n",
    "\n",
    "\n"
   ]
  },
  {
   "cell_type": "markdown",
   "metadata": {},
   "source": [
    "# Imputing Values"
   ]
  },
  {
   "cell_type": "code",
   "execution_count": null,
   "metadata": {
    "ExecuteTime": {
     "end_time": "2020-07-21T11:38:21.898807Z",
     "start_time": "2020-07-21T11:38:21.781644Z"
    }
   },
   "outputs": [],
   "source": [
    "trimmed_children_households_parents_df.isna().mean().sort_values(ascending=False)"
   ]
  },
  {
   "cell_type": "code",
   "execution_count": null,
   "metadata": {
    "ExecuteTime": {
     "end_time": "2020-07-21T11:38:22.095335Z",
     "start_time": "2020-07-21T11:38:21.901669Z"
    }
   },
   "outputs": [],
   "source": [
    "fill_mean = lambda col: col.fillna(col.mean())\n",
    "\n",
    "cols_to_impute = ['num_members', 'num_females', 'num_males', 'mother_age']\n",
    "\n",
    "trimmed_children_households_parents_df[cols_to_impute] = trimmed_children_households_parents_df[cols_to_impute].apply(fill_mean, axis=0)\n",
    "\n",
    "print(trimmed_children_households_parents_df.isna().mean().sort_values())\n",
    "trimmed_children_households_parents_df.head()"
   ]
  },
  {
   "cell_type": "markdown",
   "metadata": {},
   "source": [
    "# How parents influence the enrollment of children in school?"
   ]
  },
  {
   "cell_type": "code",
   "execution_count": null,
   "metadata": {
    "ExecuteTime": {
     "end_time": "2020-07-21T11:38:37.608706Z",
     "start_time": "2020-07-21T11:38:22.099493Z"
    }
   },
   "outputs": [],
   "source": [
    "fig, ax = plt.subplots(figsize=(15,10))\n",
    "corr_columns = ['has_electric_connection', 'is_television_available']\n",
    "sns.heatmap(\n",
    "    trimmed_children_households_parents_df.corr(), \n",
    "    ax=ax, \n",
    "    annot=True, \n",
    "    annot_kws={\"size\": 8}, \n",
    "    fmt='.2f', \n",
    "    cmap=\"coolwarm\",\n",
    "    vmin=-1,\n",
    "    vmax=1)\n",
    "\n",
    "trimmed_children_households_parents_df['has_mother_ever_attended_school'].value_counts()\n",
    "\n",
    "if save_figs:\n",
    "    plt.savefig('./figures/data_correlation', dpi=300, bbox_inches='tight')"
   ]
  },
  {
   "cell_type": "code",
   "execution_count": null,
   "metadata": {
    "ExecuteTime": {
     "end_time": "2020-07-21T11:38:39.873305Z",
     "start_time": "2020-07-21T11:38:37.610494Z"
    },
    "scrolled": true
   },
   "outputs": [],
   "source": [
    "def encode_cat_col(df, col_name, dummy_na=True):\n",
    "    encoded_df = pd.get_dummies(df[col_name], prefix=col_name, dummy_na=dummy_na)\n",
    "    return pd.concat([df.drop(col_name, axis=1), encoded_df], axis=1)\n",
    "\n",
    "if drop_locality_data:\n",
    "    encoded_df = trimmed_children_households_parents_df.drop(columns=['RNAME','DNAME','area'])\n",
    "else:\n",
    "    encoded_df = encode_cat_col(trimmed_children_households_parents_df, 'RNAME')\n",
    "    encoded_df = encode_cat_col(encoded_df, 'DNAME')\n",
    "\n",
    "\n",
    "encoded_df = encode_cat_col(encoded_df, 'house_type')\n",
    "encoded_df = encode_cat_col(encoded_df, 'mother_max_grade')\n",
    "encoded_df = encode_cat_col(encoded_df, 'father_max_grade')\n",
    "encoded_df = encode_cat_col(encoded_df, 'gender')\n",
    "encoded_df = encode_cat_col(encoded_df, 'area')\n",
    "\n",
    "print(encoded_df.shape)\n",
    "encoded_df.head()\n",
    "encoded_df.isna().mean()"
   ]
  },
  {
   "cell_type": "code",
   "execution_count": null,
   "metadata": {
    "ExecuteTime": {
     "end_time": "2020-07-21T11:38:39.954960Z",
     "start_time": "2020-07-21T11:38:39.877313Z"
    }
   },
   "outputs": [],
   "source": [
    "endoded_df_sample = encoded_df #.sample(n=50000, random_state=1)\n",
    "\n",
    "X = endoded_df_sample.drop(columns=[\n",
    "    'educational_status',\n",
    "    'is_currently_enrolled'\n",
    "])\n",
    "y = endoded_df_sample['educational_status']\n",
    "\n",
    "\n",
    "\n",
    "if run_knn:\n",
    "    X_train, X_test, y_train, y_test = train_test_split(X, y, test_size=.3, random_state=30)\n",
    "\n",
    "    from sklearn.preprocessing import StandardScaler\n",
    "    scaler = StandardScaler()\n",
    "    scaler.fit(X_train)\n",
    "\n",
    "    X_train = scaler.transform(X_train)\n",
    "    X_test = scaler.transform(X_test)\n",
    "\n",
    "    from sklearn.neighbors import KNeighborsClassifier\n",
    "    classifier = KNeighborsClassifier(n_neighbors=16, n_jobs=-1)\n",
    "    classifier.fit(X_train, y_train)\n",
    "\n",
    "\n",
    "    y_pred = classifier.predict(X_test)\n",
    "\n",
    "    from sklearn.metrics import classification_report, confusion_matrix\n",
    "    print(confusion_matrix(y_test, y_pred))\n",
    "    print(classification_report(y_test, y_pred))\n",
    "\n",
    "    from sklearn import metrics\n",
    "    # Model Accuracy, how often is the classifier correct?\n",
    "    print(\"Accuracy:\",metrics.accuracy_score(y_test, y_pred))\n",
    "    \n",
    "    cf_matrix = confusion_matrix(y_test, y_pred)\n",
    "    sns.heatmap(cf_matrix, annot=True)\n",
    "\n"
   ]
  },
  {
   "cell_type": "code",
   "execution_count": null,
   "metadata": {},
   "outputs": [],
   "source": []
  },
  {
   "cell_type": "code",
   "execution_count": null,
   "metadata": {
    "ExecuteTime": {
     "end_time": "2020-07-21T11:38:39.970844Z",
     "start_time": "2020-07-21T11:38:39.957073Z"
    },
    "scrolled": false
   },
   "outputs": [],
   "source": [
    "error = []\n",
    "\n",
    "# Calculating error for K values between 1 and 40\n",
    "\n",
    "if run_knn_hyperparameter_error_plot:\n",
    "    for i in range(1, 40, 1):\n",
    "        print(f'Start knn with k={i}')\n",
    "        knn = KNeighborsClassifier(n_neighbors=i, n_jobs=-1)\n",
    "        knn.fit(X_train, y_train)\n",
    "        pred_i = knn.predict(X_test)\n",
    "        error.append(np.mean(pred_i != y_test))\n",
    "\n",
    "        from sklearn.metrics import classification_report, confusion_matrix\n",
    "        print(confusion_matrix(y_test, pred_i))\n",
    "        print(classification_report(y_test, pred_i))\n",
    "\n",
    "        print(f'error:{np.mean(pred_i != y_test)}')\n",
    "\n",
    "\n",
    "\n",
    "\n",
    "    plt.figure(figsize=(12, 6))\n",
    "    plt.plot(range(1,40,1), error, color='red', linestyle='dashed', marker='o',\n",
    "             markerfacecolor='blue', markersize=10)\n",
    "    plt.title('Error Rate K Value')\n",
    "    plt.xlabel('K Value')\n",
    "    plt.ylabel('Mean Error')"
   ]
  },
  {
   "cell_type": "markdown",
   "metadata": {},
   "source": [
    "How Location/Districts contribute to children being in school\n"
   ]
  },
  {
   "cell_type": "code",
   "execution_count": null,
   "metadata": {
    "ExecuteTime": {
     "end_time": "2020-07-21T11:39:50.442867Z",
     "start_time": "2020-07-21T11:38:39.976384Z"
    }
   },
   "outputs": [],
   "source": [
    "from sklearn.linear_model import LogisticRegression\n",
    "\n",
    "print(encoded_df.shape)\n",
    "X = encoded_df.drop(columns=[\n",
    "    'educational_status',\n",
    "    'is_currently_enrolled'\n",
    "])\n",
    "y = encoded_df['is_currently_enrolled']\n",
    "\n",
    "\n",
    "\n",
    "X_train, X_test, y_train, y_test = train_test_split(X, y, test_size=.3, random_state=30)\n",
    "\n",
    "\n",
    "from sklearn.preprocessing import StandardScaler\n",
    "scaler = StandardScaler()\n",
    "scaler.fit(X_train)\n",
    "\n",
    "X_train = scaler.transform(X_train)\n",
    "X_test = scaler.transform(X_test)\n",
    "\n",
    "lr = LogisticRegression(random_state=10, n_jobs=-1)\n",
    "lr.fit(X_train, y_train)\n",
    "\n",
    "\n",
    "y_pred = lr.predict(X_test)\n",
    "\n",
    "from sklearn import metrics\n",
    "# Model Accuracy, how often is the classifier correct?\n",
    "print(\"Accuracy:\",metrics.accuracy_score(y_test, y_pred))\n",
    "\n",
    "cf_matrix = confusion_matrix(y_test, y_pred)\n",
    "sns.heatmap(cf_matrix, annot=True, fmt='.2f')\n",
    "\n",
    "\n",
    "# X_train = scaler.transform(X_train)\n",
    "# X_test = scaler.transform(X_test)\n",
    "\n",
    "scaler.transform(X_train)"
   ]
  },
  {
   "cell_type": "code",
   "execution_count": null,
   "metadata": {
    "ExecuteTime": {
     "end_time": "2020-07-21T11:39:50.479558Z",
     "start_time": "2020-07-21T11:39:50.445633Z"
    },
    "scrolled": false
   },
   "outputs": [],
   "source": [
    "\n",
    "\n",
    "\n",
    "def coef_weights(coefficients, X_train):\n",
    "    '''\n",
    "    INPUT:\n",
    "    coefficients - the coefficients of the linear model \n",
    "    X_train - the training data, so the column names can be used\n",
    "    OUTPUT:\n",
    "    coefs_df - a dataframe holding the coefficient, estimate, and abs(estimate)\n",
    "    \n",
    "    Provides a dataframe that can be used to understand the most influential coefficients\n",
    "    in a linear model by providing the coefficient estimates along with the name of the \n",
    "    variable attached to the coefficient.\n",
    "    '''\n",
    "    coefs_df = pd.DataFrame()\n",
    "    coefs_df['est_int'] = X.columns\n",
    "    coefs_df['coefs'] = coefficients\n",
    "    coefs_df['abs_coefs'] = np.abs(coefficients)\n",
    "    coefs_df = coefs_df.sort_values('abs_coefs', ascending=False)\n",
    "    return coefs_df\n",
    "\n",
    "\n",
    "\n",
    "coef_df = coef_weights(lr.coef_[0], X_train)\n",
    "\n",
    "positive_factors_df = coef_df[coef_df['coefs'] > 0]\n",
    "negative_factors_df = coef_df[coef_df['coefs'] < 0]\n",
    "\n",
    "coef_df.head()\n"
   ]
  },
  {
   "cell_type": "markdown",
   "metadata": {},
   "source": [
    "# What keeps children in school"
   ]
  },
  {
   "cell_type": "code",
   "execution_count": null,
   "metadata": {
    "ExecuteTime": {
     "end_time": "2020-07-21T11:39:51.509430Z",
     "start_time": "2020-07-21T11:39:50.483842Z"
    }
   },
   "outputs": [],
   "source": [
    "ax = positive_factors_df.iloc[0:20].plot(\n",
    "    kind='bar', \n",
    "    x='est_int', \n",
    "    y='abs_coefs', \n",
    "    figsize=(15,8), \n",
    "    title='Top 20 positive factors')\n",
    "ax.set_xlabel('Factors', fontsize=16)\n",
    "if save_figs:\n",
    "    plt.savefig('./figures/positive_factors_w_location.png', bbox_inches='tight')"
   ]
  },
  {
   "cell_type": "markdown",
   "metadata": {},
   "source": [
    "# What makes children withdraw from school"
   ]
  },
  {
   "cell_type": "code",
   "execution_count": null,
   "metadata": {
    "ExecuteTime": {
     "end_time": "2020-07-21T11:39:52.540012Z",
     "start_time": "2020-07-21T11:39:51.511392Z"
    }
   },
   "outputs": [],
   "source": [
    "ax = negative_factors_df.iloc[0:20].plot(\n",
    "        kind='bar', \n",
    "        x='est_int', \n",
    "        y='coefs', \n",
    "        figsize=(15,8), \n",
    "        color='maroon', \n",
    "        title='Top 20 negative factors')\n",
    "ax.set_xlabel('Factors', fontsize=16)\n",
    "\n",
    "if save_figs:\n",
    "    plt.savefig('./figures/negative_factors_with_location.png', bbox_inches='tight')"
   ]
  },
  {
   "cell_type": "markdown",
   "metadata": {},
   "source": [
    "# How Aid affects enrollment"
   ]
  },
  {
   "cell_type": "code",
   "execution_count": null,
   "metadata": {
    "ExecuteTime": {
     "end_time": "2020-07-21T11:39:52.764559Z",
     "start_time": "2020-07-21T11:39:52.545144Z"
    },
    "scrolled": false
   },
   "outputs": [],
   "source": [
    "ssn_list = ['is_pspa_recepient', 'is_ssn_recepient', 'is_akhuwat_recepient', 'is_ehsaas_recepient', 'is_other_ssn_recepient', 'is_bisp_recepient']\n",
    "coef_df[coef_df['est_int'].isin(ssn_list)].plot(kind='bar', x='est_int', y='coefs', figsize=(5,5))\n"
   ]
  },
  {
   "cell_type": "markdown",
   "metadata": {},
   "source": [
    "# Age (In School vs Out of School)"
   ]
  },
  {
   "cell_type": "code",
   "execution_count": null,
   "metadata": {
    "ExecuteTime": {
     "end_time": "2020-07-21T11:39:53.152399Z",
     "start_time": "2020-07-21T11:39:52.766823Z"
    }
   },
   "outputs": [],
   "source": [
    "in_school_df = encoded_df[encoded_df['is_currently_enrolled']]\n",
    "out_of_school_df = encoded_df[encoded_df['is_currently_enrolled'] != True]"
   ]
  },
  {
   "cell_type": "code",
   "execution_count": null,
   "metadata": {
    "ExecuteTime": {
     "end_time": "2020-07-21T11:39:54.704082Z",
     "start_time": "2020-07-21T11:39:53.156590Z"
    }
   },
   "outputs": [],
   "source": [
    "plt.figure(figsize=(20,8))\n",
    "titles = ['In School', 'Out of School']\n",
    "colors = [None, 'maroon']\n",
    "for idx, df in enumerate([in_school_df, out_of_school_df]):\n",
    "    plt.subplot(1, 2, idx+1)\n",
    "    plt.title(titles[idx])\n",
    "    plt.ylabel('No. of children')\n",
    "    plt.hist(df.age, histtype= 'bar', color=colors[idx])"
   ]
  },
  {
   "cell_type": "code",
   "execution_count": null,
   "metadata": {
    "ExecuteTime": {
     "end_time": "2020-07-21T11:39:55.670676Z",
     "start_time": "2020-07-21T11:39:54.706075Z"
    }
   },
   "outputs": [],
   "source": [
    "sns.set(style=\"whitegrid\")\n",
    "\n",
    "in_and_out_of_school = pd.concat(\n",
    "    [in_school_df['age'].value_counts().rename('in_school'),\n",
    "     encoded_df['age'].value_counts().rename('total')], axis=1)\n",
    "\n",
    "f,ax = plt.subplots(figsize=(20, 10))\n",
    "\n",
    "sns.set_color_codes(\"pastel\")\n",
    "sns.barplot(x=\"index\", y=\"total\", data=in_and_out_of_school.reset_index(),\n",
    "            label=\"Total Children\", color=\"b\")\n",
    "\n",
    "sns.set_color_codes(\"muted\")\n",
    "sns.barplot(x=\"index\", y=\"in_school\", data=in_and_out_of_school.reset_index(),\n",
    "            label=\"In School\", color=\"b\")\n",
    "\n",
    "ax.tick_params(labelsize=15)\n",
    "ax.legend(ncol=2, loc=\"upper right\", frameon=True)\n",
    "ax.set(xlim=(-1, 14), ylabel=\"\",\n",
    "       xlabel=\"Enrollments based on Age\")\n",
    "sns.despine(left=True, bottom=True)\n",
    "\n",
    "if save_figs:\n",
    "    plt.savefig('./figures/barplot.png')"
   ]
  },
  {
   "cell_type": "code",
   "execution_count": null,
   "metadata": {
    "ExecuteTime": {
     "end_time": "2020-07-21T11:39:55.725910Z",
     "start_time": "2020-07-21T11:39:55.672389Z"
    },
    "scrolled": false
   },
   "outputs": [],
   "source": [
    "coef_df"
   ]
  },
  {
   "cell_type": "markdown",
   "metadata": {},
   "source": [
    "# How parents' education affects children's education"
   ]
  },
  {
   "cell_type": "code",
   "execution_count": null,
   "metadata": {
    "ExecuteTime": {
     "end_time": "2020-07-21T11:39:56.085174Z",
     "start_time": "2020-07-21T11:39:55.727739Z"
    }
   },
   "outputs": [],
   "source": [
    "mother_father_attendance = encoded_df[['has_mother_ever_attended_school', 'has_father_ever_attended_school', 'is_currently_enrolled']].groupby(['has_mother_ever_attended_school', 'has_father_ever_attended_school']).count()\n",
    "\n",
    "pivot_df = pd.pivot_table(mother_father_attendance,'is_currently_enrolled','has_mother_ever_attended_school','has_father_ever_attended_school')\n",
    "\n",
    "plt.subplots(figsize=(5, 5))\n",
    "plt.title('How parents\\' enrollment affects child\\'s chances')\n",
    "ax = sns.heatmap(pivot_df, annot=True, cmap=\"YlGnBu\", fmt='.2f')\n"
   ]
  },
  {
   "cell_type": "code",
   "execution_count": null,
   "metadata": {
    "ExecuteTime": {
     "end_time": "2020-07-21T11:39:58.425692Z",
     "start_time": "2020-07-21T11:39:56.087587Z"
    },
    "scrolled": false
   },
   "outputs": [],
   "source": [
    "children_households_parents_df['father_years_of_education'] = map_max_grade_to_years_of_education(children_households_parents_df, 'father_max_grade'\n",
    "children_households_parents_df['mother_years_of_education'] = map_max_grade_to_years_of_education(children_households_parents_df, 'mother_max_grade')\n",
    "\n",
    "parents_max_grade_df = children_households_parents_df.groupby(['father_years_of_education', 'mother_years_of_education'])['is_currently_enrolled'].value_counts(normalize=True) * 100\n",
    "\n",
    "parents_max_grade_df = pd.DataFrame(parents_max_grade_df)\n",
    "parents_max_grade_df = parents_max_grade_df.unstack(2)\n",
    "\n",
    "parents_max_grade_df['enrolled_percentage'] = parents_max_grade_df[[('is_currently_enrolled', True)]]\n",
    "\n",
    "pivot_df = pd.pivot_table(parents_max_grade_df, 'enrolled_percentage','father_years_of_education', 'mother_years_of_education')\n",
    "pivot_df = pivot_df.sort_index(ascending=False)\n",
    "\n",
    "plt.subplots(figsize=(20, 15))\n",
    "plt.title('How parents\\' years of education affects child\\'s enrollment percentages', fontsize=18, pad=30)\n",
    "\n",
    "ax = sns.heatmap(pivot_df, annot=True, cmap=\"YlGnBu\", fmt='.0f')\n",
    "ax.tick_params(labelsize=18)\n",
    "ax.set(xlabel='mother_years_of_education')\n",
    "plt.yticks(rotation=0)  \n",
    "plt.xticks(rotation=270)  \n",
    "if save_figs:\n",
    "    plt.savefig('./figures/parents_education_vs_child_education.png')\n",
    "# pivot_df\n"
   ]
  },
  {
   "cell_type": "code",
   "execution_count": null,
   "metadata": {},
   "outputs": [],
   "source": []
  }
 ],
 "metadata": {
  "kernelspec": {
   "display_name": "Python 3",
   "language": "python",
   "name": "python3"
  },
  "language_info": {
   "codemirror_mode": {
    "name": "ipython",
    "version": 3
   },
   "file_extension": ".py",
   "mimetype": "text/x-python",
   "name": "python",
   "nbconvert_exporter": "python",
   "pygments_lexer": "ipython3",
   "version": "3.7.4"
  },
  "toc": {
   "base_numbering": 1,
   "nav_menu": {},
   "number_sections": true,
   "sideBar": true,
   "skip_h1_title": false,
   "title_cell": "Table of Contents",
   "title_sidebar": "Contents",
   "toc_cell": false,
   "toc_position": {},
   "toc_section_display": true,
   "toc_window_display": true
  }
 },
 "nbformat": 4,
 "nbformat_minor": 4
}
